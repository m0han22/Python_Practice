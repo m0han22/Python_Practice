{
 "cells": [
  {
   "cell_type": "code",
   "execution_count": 2,
   "id": "42870287-e8aa-4a1b-92dc-2ceec5ceee7d",
   "metadata": {},
   "outputs": [
    {
     "name": "stdin",
     "output_type": "stream",
     "text": [
      "Enter the number 18889\n"
     ]
    },
    {
     "name": "stdout",
     "output_type": "stream",
     "text": [
      "9\n"
     ]
    }
   ],
   "source": [
    "\"1. WAP to display the last digit of a number. (Don't use indexing for this)\"\n",
    "\n",
    "\n",
    "num = int(input(\"Enter the number\"))\n",
    "\n",
    "'% --> remainder'\n",
    "\n",
    "lst_digit = num%10\n",
    "print(lst_digit)"
   ]
  },
  {
   "cell_type": "code",
   "execution_count": 7,
   "id": "6e06ff59-51a4-4401-8bca-59a6c06d005b",
   "metadata": {},
   "outputs": [
    {
     "name": "stdin",
     "output_type": "stream",
     "text": [
      "Enter a character s\n"
     ]
    },
    {
     "name": "stdout",
     "output_type": "stream",
     "text": [
      "It is not a Vowel.\n"
     ]
    }
   ],
   "source": [
    "\"2. WAP to check if a single character is a vowel or not.\"\n",
    "\n",
    "chr = input(\"Enter a character\")\n",
    "\n",
    "if len(chr)>1:\n",
    "    print(\"Only one character\")\n",
    "else:\n",
    "    if chr == 'a' or chr== 'e' or chr=='i' or chr=='o' or chr=='u':\n",
    "        print(\"It is a Vowel.\")\n",
    "    else:\n",
    "        print(\"It is not a Vowel.\")"
   ]
  },
  {
   "cell_type": "code",
   "execution_count": 13,
   "id": "b22aef3a-8a08-4ee7-a976-4a3952c0840e",
   "metadata": {},
   "outputs": [
    {
     "name": "stdin",
     "output_type": "stream",
     "text": [
      "Enter a number 100489\n"
     ]
    },
    {
     "name": "stdout",
     "output_type": "stream",
     "text": [
      "Odd number\n"
     ]
    }
   ],
   "source": [
    "\"3. WAP to check if a number is even or odd where number is taken as input.\"\n",
    "\n",
    "num = int(input(\"Enter a number\"))\n",
    "\n",
    "if num%2 == 0:\n",
    "    print(\"Even Number\")\n",
    "else:\n",
    "    print(\"Odd number\")\n"
   ]
  },
  {
   "cell_type": "code",
   "execution_count": 16,
   "id": "5c0c9d7a-a34f-4d88-b016-be4a317a9309",
   "metadata": {},
   "outputs": [
    {
     "name": "stdin",
     "output_type": "stream",
     "text": [
      "Enter a String Mohan\n"
     ]
    },
    {
     "name": "stdout",
     "output_type": "stream",
     "text": [
      "it is not a vowel\n"
     ]
    }
   ],
   "source": [
    "'4. WAP to check if 3rd last character of a string is a vowel or not.'\n",
    "\n",
    "st = input(\"Enter a String\")\n",
    "\n",
    "vow = ['a','e','i','o','u']\n",
    "\n",
    "if st[2] in vow:\n",
    "    print('it is vowel')\n",
    "else:\n",
    "    print('it is not a vowel')\n"
   ]
  },
  {
   "cell_type": "code",
   "execution_count": 20,
   "id": "304ad115-57b0-44e8-b9fe-b8422aa7e060",
   "metadata": {},
   "outputs": [
    {
     "name": "stdout",
     "output_type": "stream",
     "text": [
      "First and last are different\n"
     ]
    }
   ],
   "source": [
    "'5. Check if the first and last number of a list is the same.'\n",
    "    \n",
    "lst = [2,3,1,3,2,3,4,2,1,200]\n",
    "\n",
    "if lst[0] == lst[len(lst)-1]:\n",
    "    print(\"First and last are same\")\n",
    "else:\n",
    "    print(\"First and last are different\")\n"
   ]
  },
  {
   "cell_type": "code",
   "execution_count": 8,
   "id": "29e040c7-dafc-493b-b5bf-32b1b122045d",
   "metadata": {},
   "outputs": [
    {
     "name": "stdin",
     "output_type": "stream",
     "text": [
      "Enter Your Income Per Year 10000000\n"
     ]
    },
    {
     "name": "stdout",
     "output_type": "stream",
     "text": [
      "Tax is  487500.0 /- INR\n"
     ]
    }
   ],
   "source": [
    "'6. Calculate income tax for the input income by adhering to the Indian rules.'\n",
    "income = int(input(\"Enter Your Income Per Year\"))\n",
    "if income <= 250000:\n",
    "    print(\"No Tax\")\n",
    "elif income << 500000:\n",
    "    tax = (income-250000)*0.05\n",
    "    print(\"Tax is \", tax,'/- INR')\n",
    "elif income <= 750000:\n",
    "    tax = ((income-500000)*0.1) + 12500\n",
    "    print(\"Tax is \", tax,'/- INR')\n",
    "elif income <= 1000000:\n",
    "    tax = ((income-750000) * 0.15) + 37500\n",
    "    print(\"Tax is \", tax,'/-INR')\n",
    "elif income <= 1250000:\n",
    "    tax = ((income - 1000000) * 0.2) + 75000\n",
    "    print(\"Tax is \", tax,'/- INR')\n",
    "elif income <= 1500000:\n",
    "    tax = (income-1250000)*0.25 + 125000\n",
    "    print(\"Tax is \", tax, \"/- INR\")\n",
    "else:\n",
    "    tax = (income-1500000)*0.30 + 1875000\n",
    "    print(\"Tax is \",tax,\"/- INR\")\n",
    "    "
   ]
  },
  {
   "cell_type": "code",
   "execution_count": 30,
   "id": "4ca68635-235b-4623-bd40-385f0e9ff051",
   "metadata": {},
   "outputs": [
    {
     "name": "stdin",
     "output_type": "stream",
     "text": [
      "Enter an String \n"
     ]
    },
    {
     "name": "stdout",
     "output_type": "stream",
     "text": [
      "Enter an String\n"
     ]
    }
   ],
   "source": [
    "'7. Write a Python program to check whether a string starts with vowel or not.'\n",
    "\n",
    "str = input(\"Enter an String\")\n",
    "vow = ['a','e','i','o','u','A','E','I','O','U']\n",
    "if len(str) == 0:\n",
    "    print('Enter an String')\n",
    "else:\n",
    "    if str[0] in vow:\n",
    "        print('Starts with Vowel')\n",
    "    else:\n",
    "        print('Does not start with a vowel')"
   ]
  },
  {
   "cell_type": "code",
   "execution_count": 38,
   "id": "b334e63c-8030-4836-b7ee-0f100a39dbce",
   "metadata": {},
   "outputs": [
    {
     "name": "stdin",
     "output_type": "stream",
     "text": [
      "Enter You Marks for Subject 0 60\n",
      "Enter You Marks for Subject 1 65\n",
      "Enter You Marks for Subject 2 68\n",
      "Enter You Marks for Subject 3 75\n",
      "Enter You Marks for Subject 4 78\n"
     ]
    },
    {
     "name": "stdout",
     "output_type": "stream",
     "text": [
      "69.2\n"
     ]
    }
   ],
   "source": [
    "'8. WAP to calculate percentage of a student through 5 subjects. Take marks as input from the user. Using percentage print which grade the student has scored.'\n",
    "\n",
    "\n",
    "total_marks = 0\n",
    "avg = 0\n",
    "# loop to intake marks from users and to calculate the total marks\n",
    "for i in range(5):\n",
    "    marks = int(input(f\"Enter You Marks for Subject {i}\"))\n",
    "    total_marks += marks \n",
    "    avg = total_marks/5\n",
    "print(round(avg,2))"
   ]
  },
  {
   "cell_type": "code",
   "execution_count": 43,
   "id": "252327f3-48a7-4a68-85bd-7e5a2e3cec0a",
   "metadata": {},
   "outputs": [
    {
     "name": "stdin",
     "output_type": "stream",
     "text": [
      "Enter Temperature(C) 34.56\n"
     ]
    },
    {
     "name": "stdout",
     "output_type": "stream",
     "text": [
      "Temperature(F):  94.208\n"
     ]
    }
   ],
   "source": [
    "'9. WAP to convert a celsius value to fahrenheit.'\n",
    "\n",
    "temp_in_cel = float(input(\"Enter Temperature(C)\"))\n",
    "\n",
    "temp_in_fh = (temp_in_cel * 9/5) + 32\n",
    "print(\"Temperature(F): \",temp_in_fh)"
   ]
  },
  {
   "cell_type": "code",
   "execution_count": 45,
   "id": "c5fb12b8-47c8-4e6b-b057-6930f1d3822b",
   "metadata": {},
   "outputs": [
    {
     "name": "stdin",
     "output_type": "stream",
     "text": [
      "Enter the height of the triangle 10.5\n",
      "Enter the bredth of the triangle 11.3\n"
     ]
    },
    {
     "name": "stdout",
     "output_type": "stream",
     "text": [
      "59.325\n"
     ]
    }
   ],
   "source": [
    "'10. WAP to calculate the surface area of a triangle.'\n",
    "\n",
    "h = float(input(\"Enter the height of the triangle\"))\n",
    "b = float(input(\"Enter the bredth of the triangle\"))\n",
    "\n",
    "area = (h*b)*1/2\n",
    "print(area)"
   ]
  },
  {
   "cell_type": "code",
   "execution_count": 50,
   "id": "6c09b01c-83c9-4783-8f40-884edc1fe10a",
   "metadata": {},
   "outputs": [
    {
     "name": "stdin",
     "output_type": "stream",
     "text": [
      "Enter a Number 7\n"
     ]
    },
    {
     "name": "stdout",
     "output_type": "stream",
     "text": [
      "Sunday\n"
     ]
    }
   ],
   "source": [
    "'11. WAP to print the day based on the number input. For example: if input = 1, output = Monday'\n",
    "\n",
    "days = ['Monday','Tuesday','Wednesday','Thursday','Friday','Saturday','Sunday']\n",
    "num = [1,2,3,4,5,6,7]\n",
    "\n",
    "inp_num = int(input(\"Enter a Number\"))\n",
    "\n",
    "for i in range(len(num)):\n",
    "    if inp_num == num[i]:\n",
    "        print(days[i])\n",
    "    "
   ]
  },
  {
   "cell_type": "code",
   "execution_count": 64,
   "id": "cb790112-bdb8-4c24-852c-5d5ee93685c9",
   "metadata": {},
   "outputs": [
    {
     "name": "stdin",
     "output_type": "stream",
     "text": [
      "Enter Your Age 30\n"
     ]
    },
    {
     "name": "stdout",
     "output_type": "stream",
     "text": [
      "You can Vote!\n"
     ]
    }
   ],
   "source": [
    "'12. WAP to check whether a person is eligible to vote or not based on their age.'\n",
    "\n",
    "age = int(input(\"Enter Your Age\"))\n",
    "\n",
    "if age >= 18:\n",
    "    print(\"You can Vote!\")\n",
    "else:\n",
    "    print(\"You can't vote\")\n",
    "    "
   ]
  },
  {
   "cell_type": "code",
   "execution_count": 68,
   "id": "7c3a5689-9b5a-443e-bea9-33ed97a54706",
   "metadata": {},
   "outputs": [
    {
     "name": "stdin",
     "output_type": "stream",
     "text": [
      "Enter a String. SaiMohan\n"
     ]
    },
    {
     "name": "stdout",
     "output_type": "stream",
     "text": [
      "1\n",
      "2\n",
      "1\n",
      "1\n",
      "1\n",
      "1\n",
      "2\n",
      "1\n"
     ]
    }
   ],
   "source": [
    "'13. WAP to calculate the count of elements in a string.'\n",
    "\n",
    "str_inp = input(\"Enter a String.\")\n",
    "\n",
    "for i in range(len(str_inp)):\n",
    "    x = str_inp.count(str_inp[i])\n",
    "    print(x)"
   ]
  },
  {
   "cell_type": "code",
   "execution_count": 65,
   "id": "dd329a70-e2c8-4fa2-baaa-81bc21528831",
   "metadata": {},
   "outputs": [
    {
     "name": "stdin",
     "output_type": "stream",
     "text": [
      "Enter Side of Traingle 10\n",
      "Enter Side of Triangle 21\n",
      "Enter Side of Traingle 22\n"
     ]
    },
    {
     "name": "stdout",
     "output_type": "stream",
     "text": [
      "Not Equilateral Triangle\n"
     ]
    }
   ],
   "source": [
    "'14. WAP to check using the sides of a triangle to tell if it is equilateral triangle or not.'\n",
    "\n",
    "x = float(input(\"Enter Side of Traingle\"))\n",
    "y = float(input(\"Enter Side of Triangle\"))\n",
    "z = float(input(\"Enter Side of Traingle\"))\n",
    "\n",
    "if x==y==z:\n",
    "    print(\"Equilateral Traingle\")\n",
    "else:\n",
    "    print(\"Not Equilateral Triangle\")"
   ]
  },
  {
   "cell_type": "code",
   "execution_count": null,
   "id": "f5466fc4-fb08-4ed9-b373-8f6c0df6923c",
   "metadata": {},
   "outputs": [],
   "source": []
  }
 ],
 "metadata": {
  "kernelspec": {
   "display_name": "Python 3 (ipykernel)",
   "language": "python",
   "name": "python3"
  },
  "language_info": {
   "codemirror_mode": {
    "name": "ipython",
    "version": 3
   },
   "file_extension": ".py",
   "mimetype": "text/x-python",
   "name": "python",
   "nbconvert_exporter": "python",
   "pygments_lexer": "ipython3",
   "version": "3.11.7"
  }
 },
 "nbformat": 4,
 "nbformat_minor": 5
}
