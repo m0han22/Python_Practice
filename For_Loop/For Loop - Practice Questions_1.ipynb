{
 "cells": [
  {
   "cell_type": "code",
   "execution_count": 1,
   "id": "c6d29966-b205-45c4-b91a-426641c64073",
   "metadata": {},
   "outputs": [
    {
     "name": "stdout",
     "output_type": "stream",
     "text": [
      "Starting Letters Are:  M\n",
      "Last Letters are:  k\n",
      "Starting Letters Are:  A\n",
      "Last Letters are:  t\n",
      "Starting Letters Are:  S\n",
      "Last Letters are:  h\n",
      "Starting Letters Are:  R\n",
      "Last Letters are:  l\n"
     ]
    }
   ],
   "source": [
    "'''\n",
    "1. WAP to print the first and last character of all the names in the given list\n",
    "   l = ['Mayank', 'Aniket', 'Saurabh', 'Rahul']\n",
    "'''\n",
    "# Defined List\n",
    "l = ['Mayank','Aniket','Saurabh','Rahul']\n",
    "\n",
    "# For Loop to iterate over each element in the list\n",
    "for i in range(len(l)):\n",
    "    # Slicing names in the list to retrieve first word \n",
    "    print(\"Starting Letters Are: \",l[i][0])\n",
    "    # Slicing names in the list to retirieve last word\n",
    "    print(\"Last Letters are: \",l[i][-1])"
   ]
  },
  {
   "cell_type": "code",
   "execution_count": 2,
   "id": "d7314b3b-aa43-4b20-a739-87176ef44874",
   "metadata": {},
   "outputs": [
    {
     "name": "stdin",
     "output_type": "stream",
     "text": [
      "Enter a Number 4\n",
      "Enter the Power 2\n"
     ]
    },
    {
     "name": "stdout",
     "output_type": "stream",
     "text": [
      "0\n",
      "1\n",
      "4\n",
      "9\n",
      "16\n"
     ]
    }
   ],
   "source": [
    "'''\n",
    "2. WAP to print the powers of first n whole numbers\n",
    "   Take power and n from the user as input.\n",
    "'''\n",
    "\n",
    "# Asking user for first n numbers\n",
    "n = int(input(\"Enter a Number\"))\n",
    "# Asking user for to the power of number\n",
    "power = int(input(\"Enter the Power\"))\n",
    "\n",
    "for i in range(0,n+1):\n",
    "    print(i**power)"
   ]
  },
  {
   "cell_type": "code",
   "execution_count": 3,
   "id": "4a7a6c96-dbde-4412-84e3-0f26395e1618",
   "metadata": {},
   "outputs": [
    {
     "name": "stdout",
     "output_type": "stream",
     "text": [
      "<class 'str'>\n",
      "<class 'int'>\n",
      "<class 'str'>\n",
      "<class 'float'>\n",
      "<class 'complex'>\n"
     ]
    }
   ],
   "source": [
    "'''\n",
    "3. WAP to print the data type of each element in the given tuple.\n",
    "   t = ('Someone', 34, 'hi', 12.983, 34 +9j)\n",
    "'''\n",
    "\n",
    "# defined tuple\n",
    "t = ('Someone',34,'hi',12.983,34 + 9j)\n",
    "# for loop to iterate over each element in the tuple\n",
    "for i in range(len(t)):\n",
    "    # Printing type of each element in the tuple\n",
    "    print(type(t[i]))"
   ]
  },
  {
   "cell_type": "code",
   "execution_count": 4,
   "id": "cb736c47-42e2-4dc0-9c4b-99f7731039a3",
   "metadata": {},
   "outputs": [
    {
     "name": "stdin",
     "output_type": "stream",
     "text": [
      "Enter Your Limit n 88\n"
     ]
    },
    {
     "name": "stdout",
     "output_type": "stream",
     "text": [
      "12\n",
      "18\n",
      "24\n",
      "30\n",
      "36\n",
      "42\n",
      "48\n",
      "54\n",
      "60\n",
      "66\n",
      "72\n",
      "78\n",
      "84\n"
     ]
    }
   ],
   "source": [
    "'4. WAP to print all the two digit even numbers which are also a multiple of 3.'\n",
    "\n",
    "# Asking user choose the limit\n",
    "n = int(input(\"Enter Your Limit n\"))\n",
    "# restricitng the limit to two digit\n",
    "if n <= 99:\n",
    "    # for loop to iterate over all the numbers\n",
    "    for i in range(0,n):\n",
    "        if i>=10 and i%2==0 and i%3==0:\n",
    "            print(i)\n",
    "else:\n",
    "    print(\"n Should be Less than 99\")"
   ]
  },
  {
   "cell_type": "code",
   "execution_count": 5,
   "id": "9de6035d-6ce4-47ec-ab4d-6ca8ab598a49",
   "metadata": {},
   "outputs": [
    {
     "name": "stdout",
     "output_type": "stream",
     "text": [
      "42\n",
      "56\n",
      "70\n",
      "84\n",
      "98\n",
      "112\n",
      "126\n",
      "140\n",
      "154\n",
      "168\n",
      "182\n",
      "196\n",
      "210\n",
      "224\n",
      "238\n",
      "252\n",
      "266\n",
      "280\n",
      "294\n"
     ]
    }
   ],
   "source": [
    "'6. WAP to print all the multiples of 2 and 7 between 30 and 300'\n",
    "\n",
    "# loop to iterate over the every number from start number to end limit in the range\n",
    "for i in range(30,300):\n",
    "    if i%2==0 and i%7==0:\n",
    "        print(i)"
   ]
  },
  {
   "cell_type": "code",
   "execution_count": 6,
   "id": "03019136-7cfc-4760-a236-e6d2fc7a8e3f",
   "metadata": {},
   "outputs": [
    {
     "name": "stdout",
     "output_type": "stream",
     "text": [
      "23  is odd\n",
      "45  is odd\n",
      "67  is odd\n",
      "90  is Even\n",
      "12  is Even\n",
      "10  is Even\n"
     ]
    }
   ],
   "source": [
    "'''\n",
    "7. t = (23, 45, 67, 90, 12, 10)\n",
    "   WAP to print even/odd for all the numbers.\n",
    "\n",
    "'''\n",
    "\n",
    "# defined tuple\n",
    "t=(23,45,67,90,12,10)\n",
    "# for loop to iterate over each element in the tuple\n",
    "for i in range(len(t)):\n",
    "    # condtion for even - multiple of 2\n",
    "    if t[i]%2==0:\n",
    "        print(t[i],' is Even')\n",
    "    else:\n",
    "        print(t[i],' is odd')"
   ]
  },
  {
   "cell_type": "code",
   "execution_count": 7,
   "id": "baf8eced-4f5a-40a7-abb2-9194e8b7ee7a",
   "metadata": {},
   "outputs": [
    {
     "name": "stdin",
     "output_type": "stream",
     "text": [
      "Enter a String to Reverse Sai Mohan K\n"
     ]
    },
    {
     "name": "stdout",
     "output_type": "stream",
     "text": [
      "K nahoM iaS\n"
     ]
    }
   ],
   "source": [
    "'''\n",
    " 8. Take a string input from the user. Reverse the string without using slicing.\n",
    "'''\n",
    "# function to reverse the string \n",
    "def reversestr(input_string):\n",
    "    # returns the string in input \n",
    "    return input_string[::-1]\n",
    "\n",
    "# asking user to enter the string \n",
    "input_string = input(\"Enter a String to Reverse\")\n",
    "reversed = reversestr(input_string)\n",
    "print(reversed)"
   ]
  },
  {
   "cell_type": "code",
   "execution_count": 8,
   "id": "ab782247-c8ff-4ee2-84a2-eb39a6569402",
   "metadata": {},
   "outputs": [
    {
     "name": "stdout",
     "output_type": "stream",
     "text": [
      "The last digit of  23  is  3\n",
      "The last digit of  45  is  5\n",
      "The last digit of  67  is  7\n",
      "The last digit of  90  is  0\n",
      "The last digit of  12  is  2\n",
      "The last digit of  10  is  0\n"
     ]
    }
   ],
   "source": [
    "'''\n",
    "9. t = (23, 45, 67, 90, 12, 10)\n",
    "   WAP to print the 2nd digit of all the numbers from this collection.\n",
    "'''\n",
    "# defined tuple\n",
    "t=(23, 45, 67, 90, 12, 10)\n",
    "# for loop to iterate over the elements of the tuple\n",
    "for i in range(len(t)):\n",
    "    # to print last digit of the number\n",
    "    print('The last digit of ',t[i],' is ',t[i]%10)"
   ]
  },
  {
   "cell_type": "code",
   "execution_count": 9,
   "id": "cbd11375-5bdf-4edd-a1ce-ef82fbc77bf7",
   "metadata": {},
   "outputs": [
    {
     "name": "stdout",
     "output_type": "stream",
     "text": [
      "2  is a numberical value\n",
      "5  is a numberical value\n",
      "5  is a numberical value\n",
      "7  is a numberical value\n"
     ]
    }
   ],
   "source": [
    "'''\n",
    "10.l = [2, 5, 'a', 5, 'r', 7, 'm', 't', '4']\n",
    "   WAP to print all the numerical data.\n",
    "'''\n",
    "\n",
    "# defined list\n",
    "l = [2,5,'a',5,'r',7,'m','t','4']\n",
    "\n",
    "# for loop to iterate over the list \n",
    "for i in range(len(l)):\n",
    "    # condiion to display type of element if it is int. \n",
    "    if type(l[i])== int:\n",
    "        print(l[i],' is a numberical value')"
   ]
  }
 ],
 "metadata": {
  "kernelspec": {
   "display_name": "Python 3 (ipykernel)",
   "language": "python",
   "name": "python3"
  },
  "language_info": {
   "codemirror_mode": {
    "name": "ipython",
    "version": 3
   },
   "file_extension": ".py",
   "mimetype": "text/x-python",
   "name": "python",
   "nbconvert_exporter": "python",
   "pygments_lexer": "ipython3",
   "version": "3.11.7"
  }
 },
 "nbformat": 4,
 "nbformat_minor": 5
}
